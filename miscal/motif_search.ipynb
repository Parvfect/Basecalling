{
 "cells": [
  {
   "cell_type": "code",
   "execution_count": 1,
   "id": "58a83d00-3225-4ee0-b278-94c5c4ea4094",
   "metadata": {},
   "outputs": [],
   "source": [
    "import pandas as pd"
   ]
  },
  {
   "cell_type": "code",
   "execution_count": 3,
   "id": "5d04a350-84a7-4a05-8b76-110b22db9eea",
   "metadata": {},
   "outputs": [
    {
     "data": {
      "text/html": [
       "<div>\n",
       "<style scoped>\n",
       "    .dataframe tbody tr th:only-of-type {\n",
       "        vertical-align: middle;\n",
       "    }\n",
       "\n",
       "    .dataframe tbody tr th {\n",
       "        vertical-align: top;\n",
       "    }\n",
       "\n",
       "    .dataframe thead th {\n",
       "        text-align: right;\n",
       "    }\n",
       "</style>\n",
       "<table border=\"1\" class=\"dataframe\">\n",
       "  <thead>\n",
       "    <tr style=\"text-align: right;\">\n",
       "      <th></th>\n",
       "      <th>read_id</th>\n",
       "      <th>ONT_Barcode</th>\n",
       "      <th>HW_Address</th>\n",
       "      <th>orientation</th>\n",
       "      <th>start_end</th>\n",
       "      <th>library_motif</th>\n",
       "    </tr>\n",
       "  </thead>\n",
       "  <tbody>\n",
       "    <tr>\n",
       "      <th>0</th>\n",
       "      <td>0117ec74-7ef1-4e8c-b169-c8ca9a576de4</td>\n",
       "      <td>barcode01</td>\n",
       "      <td>barcode_external01_internal01</td>\n",
       "      <td>+|+|+</td>\n",
       "      <td>75-124|370-419|566-615</td>\n",
       "      <td>ltm8_2x1|ltm8_5x4|ltm8_9x1</td>\n",
       "    </tr>\n",
       "    <tr>\n",
       "      <th>1</th>\n",
       "      <td>01575c8a-4a38-4554-9d88-5acbc61059a4</td>\n",
       "      <td>barcode01</td>\n",
       "      <td>barcode_external01_internal01</td>\n",
       "      <td>+|+</td>\n",
       "      <td>176-225|275-324</td>\n",
       "      <td>ltm8_6x1|ltm8_8x7</td>\n",
       "    </tr>\n",
       "    <tr>\n",
       "      <th>2</th>\n",
       "      <td>01ecbbe8-550d-433b-a2af-354c33c91dde</td>\n",
       "      <td>barcode01</td>\n",
       "      <td>barcode_external01_internal01</td>\n",
       "      <td>+</td>\n",
       "      <td>108-157</td>\n",
       "      <td>ltm8_1x1</td>\n",
       "    </tr>\n",
       "    <tr>\n",
       "      <th>3</th>\n",
       "      <td>062cd1bc-9132-4144-bd56-5aea4e9a5529</td>\n",
       "      <td>barcode01</td>\n",
       "      <td>barcode_external01_internal01</td>\n",
       "      <td>+|+|+|+</td>\n",
       "      <td>154-203|251-300|301-350|351-400</td>\n",
       "      <td>ltm8_2x1|ltm8_4x2|ltm8_5x5|ltm8_6x4</td>\n",
       "    </tr>\n",
       "    <tr>\n",
       "      <th>4</th>\n",
       "      <td>06382a54-201e-46cf-beeb-c8d574b30e85</td>\n",
       "      <td>barcode01</td>\n",
       "      <td>barcode_external01_internal01</td>\n",
       "      <td>+|+|+|+|+</td>\n",
       "      <td>149-198|199-248|299-348|349-398|497-546</td>\n",
       "      <td>ltm8_2x1|ltm8_3x4|ltm8_5x5|ltm8_6x8|ltm8_9x3</td>\n",
       "    </tr>\n",
       "  </tbody>\n",
       "</table>\n",
       "</div>"
      ],
      "text/plain": [
       "                                read_id ONT_Barcode  \\\n",
       "0  0117ec74-7ef1-4e8c-b169-c8ca9a576de4   barcode01   \n",
       "1  01575c8a-4a38-4554-9d88-5acbc61059a4   barcode01   \n",
       "2  01ecbbe8-550d-433b-a2af-354c33c91dde   barcode01   \n",
       "3  062cd1bc-9132-4144-bd56-5aea4e9a5529   barcode01   \n",
       "4  06382a54-201e-46cf-beeb-c8d574b30e85   barcode01   \n",
       "\n",
       "                      HW_Address orientation  \\\n",
       "0  barcode_external01_internal01       +|+|+   \n",
       "1  barcode_external01_internal01         +|+   \n",
       "2  barcode_external01_internal01           +   \n",
       "3  barcode_external01_internal01     +|+|+|+   \n",
       "4  barcode_external01_internal01   +|+|+|+|+   \n",
       "\n",
       "                                 start_end  \\\n",
       "0                   75-124|370-419|566-615   \n",
       "1                          176-225|275-324   \n",
       "2                                  108-157   \n",
       "3          154-203|251-300|301-350|351-400   \n",
       "4  149-198|199-248|299-348|349-398|497-546   \n",
       "\n",
       "                                  library_motif  \n",
       "0                    ltm8_2x1|ltm8_5x4|ltm8_9x1  \n",
       "1                             ltm8_6x1|ltm8_8x7  \n",
       "2                                      ltm8_1x1  \n",
       "3           ltm8_2x1|ltm8_4x2|ltm8_5x5|ltm8_6x4  \n",
       "4  ltm8_2x1|ltm8_3x4|ltm8_5x5|ltm8_6x8|ltm8_9x3  "
      ]
     },
     "execution_count": 3,
     "metadata": {},
     "output_type": "execute_result"
    }
   ],
   "source": [
    "\n",
    "path_motif_search_file = r\"C:\\Users\\Parv\\Doc\\HelixWorks\\Basecalling\\data\\helixworks_1280_fast5_2024-02-09_1638\\motif_search_barcoded.csv\"\n",
    "\n",
    "\n",
    "\n",
    "squiggle_database_df = pd.read_pickle(\"squiggle_database.pkl\") # All the reads with the squiggles\n",
    "motif_search_df = pd.read_csv(path_motif_search_file)\n",
    "motif_search_df.head()"
   ]
  },
  {
   "cell_type": "markdown",
   "id": "7ac49a5b-dc49-496d-ab7c-b194a812e895",
   "metadata": {},
   "source": [
    "So what we have here is the motif search database, which associates motifs from the library to a certain part of the seqeunce, not sure whether it maps to pre or post basecalling. Need to figure out how to chop squiggles. Luckily we have all the squiggles we need in the pickle file"
   ]
  },
  {
   "cell_type": "code",
   "execution_count": 27,
   "id": "7e2e3814-55d2-40ec-9b57-cd21644480ff",
   "metadata": {},
   "outputs": [
    {
     "name": "stdout",
     "output_type": "stream",
     "text": [
      "8303\n"
     ]
    }
   ],
   "source": [
    "def get_squiggle(read_id):\n",
    "    row = squiggle_database_df.loc[squiggle_database_df['read_id'] == read_id]\n",
    "    return row['squiggle'].to_numpy()\n",
    "\n",
    "#print(motif_search_df.iloc[0]['read_id'])\n",
    "squiggle = get_squiggle(motif_search_df.iloc[0]['read_id'])\n",
    "print(len(squiggle[0]))"
   ]
  },
  {
   "cell_type": "markdown",
   "id": "36b85c90-ba7c-4955-a090-059cb7bfcfe9",
   "metadata": {},
   "source": [
    "So we can't directly match to chop bits of the fast5 cause we don't know the exact positions. So I'm thinking let's pick the ones with a large number of motifs found and use that as the training set. Gotta find a way to seperate them into bits though\n"
   ]
  },
  {
   "cell_type": "code",
   "execution_count": 35,
   "id": "2aa4e1ea-7fa7-4a30-8dd7-ac32424b602a",
   "metadata": {},
   "outputs": [
    {
     "data": {
      "text/html": [
       "<div>\n",
       "<style scoped>\n",
       "    .dataframe tbody tr th:only-of-type {\n",
       "        vertical-align: middle;\n",
       "    }\n",
       "\n",
       "    .dataframe tbody tr th {\n",
       "        vertical-align: top;\n",
       "    }\n",
       "\n",
       "    .dataframe thead th {\n",
       "        text-align: right;\n",
       "    }\n",
       "</style>\n",
       "<table border=\"1\" class=\"dataframe\">\n",
       "  <thead>\n",
       "    <tr style=\"text-align: right;\">\n",
       "      <th></th>\n",
       "      <th>read_id</th>\n",
       "      <th>ONT_Barcode</th>\n",
       "      <th>HW_Address</th>\n",
       "      <th>orientation</th>\n",
       "      <th>start_end</th>\n",
       "      <th>library_motif</th>\n",
       "      <th>library_motifs_arr</th>\n",
       "      <th>motifs_discovered</th>\n",
       "    </tr>\n",
       "  </thead>\n",
       "  <tbody>\n",
       "    <tr>\n",
       "      <th>0</th>\n",
       "      <td>0117ec74-7ef1-4e8c-b169-c8ca9a576de4</td>\n",
       "      <td>barcode01</td>\n",
       "      <td>barcode_external01_internal01</td>\n",
       "      <td>+|+|+</td>\n",
       "      <td>75-124|370-419|566-615</td>\n",
       "      <td>ltm8_2x1|ltm8_5x4|ltm8_9x1</td>\n",
       "      <td>[ltm8_2x1, ltm8_5x4, ltm8_9x1]</td>\n",
       "      <td>3</td>\n",
       "    </tr>\n",
       "    <tr>\n",
       "      <th>1</th>\n",
       "      <td>01575c8a-4a38-4554-9d88-5acbc61059a4</td>\n",
       "      <td>barcode01</td>\n",
       "      <td>barcode_external01_internal01</td>\n",
       "      <td>+|+</td>\n",
       "      <td>176-225|275-324</td>\n",
       "      <td>ltm8_6x1|ltm8_8x7</td>\n",
       "      <td>[ltm8_6x1, ltm8_8x7]</td>\n",
       "      <td>2</td>\n",
       "    </tr>\n",
       "    <tr>\n",
       "      <th>2</th>\n",
       "      <td>01ecbbe8-550d-433b-a2af-354c33c91dde</td>\n",
       "      <td>barcode01</td>\n",
       "      <td>barcode_external01_internal01</td>\n",
       "      <td>+</td>\n",
       "      <td>108-157</td>\n",
       "      <td>ltm8_1x1</td>\n",
       "      <td>[ltm8_1x1]</td>\n",
       "      <td>1</td>\n",
       "    </tr>\n",
       "    <tr>\n",
       "      <th>3</th>\n",
       "      <td>062cd1bc-9132-4144-bd56-5aea4e9a5529</td>\n",
       "      <td>barcode01</td>\n",
       "      <td>barcode_external01_internal01</td>\n",
       "      <td>+|+|+|+</td>\n",
       "      <td>154-203|251-300|301-350|351-400</td>\n",
       "      <td>ltm8_2x1|ltm8_4x2|ltm8_5x5|ltm8_6x4</td>\n",
       "      <td>[ltm8_2x1, ltm8_4x2, ltm8_5x5, ltm8_6x4]</td>\n",
       "      <td>4</td>\n",
       "    </tr>\n",
       "    <tr>\n",
       "      <th>4</th>\n",
       "      <td>06382a54-201e-46cf-beeb-c8d574b30e85</td>\n",
       "      <td>barcode01</td>\n",
       "      <td>barcode_external01_internal01</td>\n",
       "      <td>+|+|+|+|+</td>\n",
       "      <td>149-198|199-248|299-348|349-398|497-546</td>\n",
       "      <td>ltm8_2x1|ltm8_3x4|ltm8_5x5|ltm8_6x8|ltm8_9x3</td>\n",
       "      <td>[ltm8_2x1, ltm8_3x4, ltm8_5x5, ltm8_6x8, ltm8_...</td>\n",
       "      <td>5</td>\n",
       "    </tr>\n",
       "  </tbody>\n",
       "</table>\n",
       "</div>"
      ],
      "text/plain": [
       "                                read_id ONT_Barcode  \\\n",
       "0  0117ec74-7ef1-4e8c-b169-c8ca9a576de4   barcode01   \n",
       "1  01575c8a-4a38-4554-9d88-5acbc61059a4   barcode01   \n",
       "2  01ecbbe8-550d-433b-a2af-354c33c91dde   barcode01   \n",
       "3  062cd1bc-9132-4144-bd56-5aea4e9a5529   barcode01   \n",
       "4  06382a54-201e-46cf-beeb-c8d574b30e85   barcode01   \n",
       "\n",
       "                      HW_Address orientation  \\\n",
       "0  barcode_external01_internal01       +|+|+   \n",
       "1  barcode_external01_internal01         +|+   \n",
       "2  barcode_external01_internal01           +   \n",
       "3  barcode_external01_internal01     +|+|+|+   \n",
       "4  barcode_external01_internal01   +|+|+|+|+   \n",
       "\n",
       "                                 start_end  \\\n",
       "0                   75-124|370-419|566-615   \n",
       "1                          176-225|275-324   \n",
       "2                                  108-157   \n",
       "3          154-203|251-300|301-350|351-400   \n",
       "4  149-198|199-248|299-348|349-398|497-546   \n",
       "\n",
       "                                  library_motif  \\\n",
       "0                    ltm8_2x1|ltm8_5x4|ltm8_9x1   \n",
       "1                             ltm8_6x1|ltm8_8x7   \n",
       "2                                      ltm8_1x1   \n",
       "3           ltm8_2x1|ltm8_4x2|ltm8_5x5|ltm8_6x4   \n",
       "4  ltm8_2x1|ltm8_3x4|ltm8_5x5|ltm8_6x8|ltm8_9x3   \n",
       "\n",
       "                                  library_motifs_arr  motifs_discovered  \n",
       "0                     [ltm8_2x1, ltm8_5x4, ltm8_9x1]                  3  \n",
       "1                               [ltm8_6x1, ltm8_8x7]                  2  \n",
       "2                                         [ltm8_1x1]                  1  \n",
       "3           [ltm8_2x1, ltm8_4x2, ltm8_5x5, ltm8_6x4]                  4  \n",
       "4  [ltm8_2x1, ltm8_3x4, ltm8_5x5, ltm8_6x8, ltm8_...                  5  "
      ]
     },
     "execution_count": 35,
     "metadata": {},
     "output_type": "execute_result"
    }
   ],
   "source": [
    "\n",
    "def library_motif_segregation():\n",
    "    library_motifs = motif_search_df['library_motif'].to_numpy()\n",
    "    library_motifs_arr = []\n",
    "    no_motifs = []\n",
    "    for i in library_motifs:\n",
    "        motifs_arr = i.split('|')\n",
    "        library_motifs_arr.append(motifs_arr)\n",
    "        no_motifs.append(len(motifs_arr))\n",
    "    return library_motifs_arr, no_motifs\n",
    "\n",
    "\n",
    "library_motifs_arr, motifs_discovered = library_motif_segregation()\n",
    "motif_search_df['library_motifs_arr'] = library_motifs_arr\n",
    "motif_search_df['motifs_discovered'] = motifs_discovered\n",
    "motif_search_df.head()\n",
    "    "
   ]
  },
  {
   "cell_type": "markdown",
   "id": "267640a0-6796-4382-912e-aeb8129c858b",
   "metadata": {},
   "source": [
    "Now let us look at the number of rows with the number of lengths "
   ]
  },
  {
   "cell_type": "code",
   "execution_count": 46,
   "id": "b6d4b183-4537-4e49-b128-3543a7e76ef0",
   "metadata": {},
   "outputs": [
    {
     "name": "stdout",
     "output_type": "stream",
     "text": [
      "No Motifs = 1 Rows = 99982 \n",
      "No Motifs = 2 Rows = 115250 \n",
      "No Motifs = 3 Rows = 107021 \n",
      "No Motifs = 4 Rows = 85419 \n",
      "No Motifs = 5 Rows = 60550 \n",
      "No Motifs = 6 Rows = 36969 \n",
      "No Motifs = 7 Rows = 19166 \n",
      "No Motifs = 8 Rows = 8189 \n",
      "No Motifs = 9 Rows = 2939 \n",
      "No Motifs = 10 Rows = 923 \n",
      "No Motifs = 11 Rows = 342 \n",
      "No Motifs = 12 Rows = 161 \n",
      "No Motifs = 13 Rows = 66 \n",
      "No Motifs = 14 Rows = 30 \n",
      "No Motifs = 15 Rows = 22 \n",
      "No Motifs = 16 Rows = 5 \n",
      "No Motifs = 17 Rows = 2 \n",
      "No Motifs = 18 Rows = 1 \n"
     ]
    }
   ],
   "source": [
    "for i in sorted(motif_search_df['motifs_discovered'].unique()):\n",
    "\n",
    "    rows = motif_search_df.loc[motif_search_df['motifs_discovered'] == i]\n",
    "    print(f\"No Motifs = {i} Rows = {rows.shape[0]} \")\n",
    "    "
   ]
  },
  {
   "cell_type": "markdown",
   "id": "e864ed67-a62a-437e-bade-457b33746542",
   "metadata": {},
   "source": [
    "Let us go for read lengths of 8 first"
   ]
  },
  {
   "cell_type": "code",
   "execution_count": 55,
   "id": "9c81c993-2a35-4328-bb97-e81964c41f10",
   "metadata": {},
   "outputs": [
    {
     "name": "stderr",
     "output_type": "stream",
     "text": [
      "100%|█████████████████████████████████████████████████████████████████████████████████████████████████████████| 8189/8189 [03:43<00:00, 36.71it/s]"
     ]
    },
    {
     "name": "stdout",
     "output_type": "stream",
     "text": [
      "8189\n",
      "8189\n"
     ]
    },
    {
     "name": "stderr",
     "output_type": "stream",
     "text": [
      "\n"
     ]
    }
   ],
   "source": [
    "\n",
    "from tqdm import tqdm\n",
    "\n",
    "rows = motif_search_df.loc[motif_search_df['motifs_discovered'] == 8]\n",
    "read_ids = rows['read_id'].to_numpy()\n",
    "squiggles = []\n",
    "\n",
    "for read_id in tqdm(read_ids):\n",
    "    squiggle = get_squiggle(read_id)\n",
    "\n",
    "    if squiggle is None:\n",
    "        motif_search_df = motif_search_df[motif_search_df.read_id != read_id]\n",
    "    else:\n",
    "        squiggles.append(squiggle)\n",
    "\n",
    "library_motifs = rows['library_motif'].to_numpy()\n",
    "\n",
    "print(len(library_motifs))\n",
    "print(len(squiggles))\n"
   ]
  },
  {
   "cell_type": "code",
   "execution_count": 56,
   "id": "dd42e614-4094-4442-839f-1222d8da0201",
   "metadata": {},
   "outputs": [
    {
     "data": {
      "text/html": [
       "<div>\n",
       "<style scoped>\n",
       "    .dataframe tbody tr th:only-of-type {\n",
       "        vertical-align: middle;\n",
       "    }\n",
       "\n",
       "    .dataframe tbody tr th {\n",
       "        vertical-align: top;\n",
       "    }\n",
       "\n",
       "    .dataframe thead th {\n",
       "        text-align: right;\n",
       "    }\n",
       "</style>\n",
       "<table border=\"1\" class=\"dataframe\">\n",
       "  <thead>\n",
       "    <tr style=\"text-align: right;\">\n",
       "      <th></th>\n",
       "      <th>squiggle</th>\n",
       "      <th>motifs</th>\n",
       "    </tr>\n",
       "  </thead>\n",
       "  <tbody>\n",
       "    <tr>\n",
       "      <th>0</th>\n",
       "      <td>[[671, 498, 504, 526, 502, 512, 527, 528, 517,...</td>\n",
       "      <td>ltm8_1x1|ltm8_2x1|ltm8_4x2|ltm8_5x7|ltm8_6x4|l...</td>\n",
       "    </tr>\n",
       "    <tr>\n",
       "      <th>1</th>\n",
       "      <td>[[540, 415, 425, 463, 470, 494, 499, 498, 494,...</td>\n",
       "      <td>ltm8_2x1|ltm8_3x4|ltm8_6x8|ltm8_7x2|ltm8_7x2|l...</td>\n",
       "    </tr>\n",
       "    <tr>\n",
       "      <th>2</th>\n",
       "      <td>[[899, 851, 806, 779, 729, 713, 673, 659, 632,...</td>\n",
       "      <td>ltm8_2x1|ltm8_4x8|ltm8_5x1|ltm8_6x7|ltm8_7x1|l...</td>\n",
       "    </tr>\n",
       "    <tr>\n",
       "      <th>3</th>\n",
       "      <td>[[522, 513, 517, 522, 515, 503, 518, 523, 524,...</td>\n",
       "      <td>ltm8_1x1|ltm8_2x1|ltm8_3x5|ltm8_4x1|ltm8_5x6|l...</td>\n",
       "    </tr>\n",
       "    <tr>\n",
       "      <th>4</th>\n",
       "      <td>[]</td>\n",
       "      <td>ltm8_2x1|ltm8_4x7|ltm8_5x4|ltm8_6x4|ltm8_6x7|l...</td>\n",
       "    </tr>\n",
       "  </tbody>\n",
       "</table>\n",
       "</div>"
      ],
      "text/plain": [
       "                                            squiggle  \\\n",
       "0  [[671, 498, 504, 526, 502, 512, 527, 528, 517,...   \n",
       "1  [[540, 415, 425, 463, 470, 494, 499, 498, 494,...   \n",
       "2  [[899, 851, 806, 779, 729, 713, 673, 659, 632,...   \n",
       "3  [[522, 513, 517, 522, 515, 503, 518, 523, 524,...   \n",
       "4                                                 []   \n",
       "\n",
       "                                              motifs  \n",
       "0  ltm8_1x1|ltm8_2x1|ltm8_4x2|ltm8_5x7|ltm8_6x4|l...  \n",
       "1  ltm8_2x1|ltm8_3x4|ltm8_6x8|ltm8_7x2|ltm8_7x2|l...  \n",
       "2  ltm8_2x1|ltm8_4x8|ltm8_5x1|ltm8_6x7|ltm8_7x1|l...  \n",
       "3  ltm8_1x1|ltm8_2x1|ltm8_3x5|ltm8_4x1|ltm8_5x6|l...  \n",
       "4  ltm8_2x1|ltm8_4x7|ltm8_5x4|ltm8_6x4|ltm8_6x7|l...  "
      ]
     },
     "execution_count": 56,
     "metadata": {},
     "output_type": "execute_result"
    }
   ],
   "source": [
    "dataset_df_motif_level = pd.DataFrame()\n",
    "dataset_df_motif_level['squiggle'] = squiggles\n",
    "dataset_df_motif_level['motifs'] = library_motifs\n",
    "dataset_df_motif_level.head()"
   ]
  }
 ],
 "metadata": {
  "kernelspec": {
   "display_name": "Python 3 (ipykernel)",
   "language": "python",
   "name": "python3"
  },
  "language_info": {
   "codemirror_mode": {
    "name": "ipython",
    "version": 3
   },
   "file_extension": ".py",
   "mimetype": "text/x-python",
   "name": "python",
   "nbconvert_exporter": "python",
   "pygments_lexer": "ipython3",
   "version": "3.9.2"
  }
 },
 "nbformat": 4,
 "nbformat_minor": 5
}
