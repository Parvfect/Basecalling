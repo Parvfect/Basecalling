{
 "cells": [
  {
   "cell_type": "code",
   "execution_count": 2,
   "id": "96aff0bb-fa1b-47ea-a99a-a617dba50c87",
   "metadata": {},
   "outputs": [
    {
     "name": "stdout",
     "output_type": "stream",
     "text": [
      "   ONT_Barcode                     HW_address   Payload1   Payload2  \\\n",
      "0            1  barcode_external01_internal01  [1,3,4,5]  [1,2,7,8]   \n",
      "1            1  barcode_external02_internal01  [3,4,7,8]  [2,3,4,8]   \n",
      "2            1  barcode_external03_internal01  [1,3,5,8]  [2,4,5,6]   \n",
      "3            1  barcode_external04_internal01  [1,4,5,8]  [3,4,7,8]   \n",
      "4            1  barcode_external05_internal01  [2,4,5,6]  [3,4,6,7]   \n",
      "\n",
      "    Payload3   Payload4   Payload5   Payload6   Payload7   Payload8  \n",
      "0  [1,4,5,6]  [1,4,7,8]  [1,5,7,8]  [1,3,5,6]  [1,3,5,7]  [1,5,6,7]  \n",
      "1  [2,4,6,7]  [1,6,7,8]  [1,2,5,8]  [1,2,7,8]  [1,5,6,8]  [1,5,6,7]  \n",
      "2  [1,5,6,8]  [1,2,4,6]  [2,5,6,8]  [2,4,7,8]  [1,4,5,7]  [2,5,7,8]  \n",
      "3  [1,4,7,8]  [1,4,7,8]  [1,5,6,7]  [1,2,4,7]  [1,2,3,4]  [2,4,6,7]  \n",
      "4  [4,5,6,8]  [1,4,5,8]  [4,5,6,8]  [1,2,4,6]  [2,4,7,8]  [4,5,7,8]  \n",
      "                                read_id  \\\n",
      "0  56523433-648a-4f12-9690-63485bfcfe7a   \n",
      "1  c30c3c1c-c233-47c0-b271-bfa557b5cf52   \n",
      "2  c44ca947-aa22-4e4a-9cca-2cb7303aeb13   \n",
      "3  da0d1f0f-734a-44cc-8999-b688284444ce   \n",
      "4  009edef8-baf5-412e-9858-3f7d136ad8c0   \n",
      "\n",
      "                                            squiggle  \n",
      "0  [557, 429, 434, 439, 416, 433, 447, 444, 484, ...  \n",
      "1  [473, 381, 422, 381, 450, 427, 447, 446, 407, ...  \n",
      "2  [456, 500, 490, 532, 509, 529, 519, 524, 537, ...  \n",
      "3  [436, 453, 482, 452, 481, 472, 459, 465, 465, ...  \n",
      "4  [692, 527, 533, 543, 554, 517, 509, 523, 506, ...  \n",
      "   ONT_Barcode                     HW_Address  \\\n",
      "0            1  barcode_external01_internal01   \n",
      "1            1  barcode_external01_internal01   \n",
      "2            1  barcode_external01_internal01   \n",
      "3            1  barcode_external01_internal01   \n",
      "4            1  barcode_external01_internal01   \n",
      "\n",
      "                                read_id  \n",
      "0  0117ec74-7ef1-4e8c-b169-c8ca9a576de4  \n",
      "1  01575c8a-4a38-4554-9d88-5acbc61059a4  \n",
      "2  01ecbbe8-550d-433b-a2af-354c33c91dde  \n",
      "3  062cd1bc-9132-4144-bd56-5aea4e9a5529  \n",
      "4  06382a54-201e-46cf-beeb-c8d574b30e85  \n"
     ]
    },
    {
     "data": {
      "text/plain": [
       "\" For Each Unique ONT Barcode and HW_Address pair - how many read ids do we have?\\nont_unique = read_id_barcoded_df['ONT_Barcode'].unique()\\nhw_address_unique = read_id_barcoded_df['HW_Address'].unique()\\n\\nfor i in ont_unique:\\n    for j in hw_address_unique:\\n        df = read_id_barcoded_df.loc[(read_id_barcoded_df['ONT_Barcode'] == i) & (read_id_barcoded_df['HW_Address'] == j)]\\n        print(df.shape[0])\\n\\nAbout 8000 reads per unique pair of ONT and HW, can select like 100 to begin with to see how our model does \\n\""
      ]
     },
     "execution_count": 2,
     "metadata": {},
     "output_type": "execute_result"
    }
   ],
   "source": [
    "\n",
    "\n",
    "import pandas as pd\n",
    "\n",
    "\n",
    "decoded_consensus_df = pd.read_csv(\"decoded_consensus.tsv\", sep='\\t') # This is the decoded consensus \n",
    "squiggle_database_df = pd.read_pickle(\"squiggle_database.pkl\") # All the reads with the squiggles\n",
    "read_id_barcoded_df = pd.read_pickle(\"read_id_barcoded.pkl\") # Read ids and their barcodes\n",
    "\n",
    "print(decoded_consensus_df.head())\n",
    "print(squiggle_database_df.head())\n",
    "print(read_id_barcoded_df.head())\n",
    "\n",
    "\"\"\" For Each Unique ONT Barcode and HW_Address pair - how many read ids do we have?\n",
    "ont_unique = read_id_barcoded_df['ONT_Barcode'].unique()\n",
    "hw_address_unique = read_id_barcoded_df['HW_Address'].unique()\n",
    "\n",
    "for i in ont_unique:\n",
    "    for j in hw_address_unique:\n",
    "        df = read_id_barcoded_df.loc[(read_id_barcoded_df['ONT_Barcode'] == i) & (read_id_barcoded_df['HW_Address'] == j)]\n",
    "        print(df.shape[0])\n",
    "\n",
    "About 8000 reads per unique pair of ONT and HW, can select like 100 to begin with to see how our model does \n",
    "\"\"\"\n",
    "\n",
    "\n",
    "    "
   ]
  },
  {
   "cell_type": "markdown",
   "id": "1b34f0ab-b067-488f-84a5-fff21b24f72c",
   "metadata": {},
   "source": [
    "Let us see whether we can continue to use this for at least this session and do some analysis\n",
    "\n",
    "Firstly, let's select two squiggles of the same set of ONT and HW and see how much they differ"
   ]
  },
  {
   "cell_type": "code",
   "execution_count": 90,
   "id": "e494bc58-d529-433a-a61c-c0eb84d1b88a",
   "metadata": {},
   "outputs": [
    {
     "name": "stdout",
     "output_type": "stream",
     "text": [
      " 3478 2348 2467 1678 1258 1278 1568 1567\n",
      "   ONT_Barcode                     HW_Address  \\\n",
      "0            1  barcode_external01_internal01   \n",
      "1            1  barcode_external01_internal02   \n",
      "2            1  barcode_external01_internal03   \n",
      "3            1  barcode_external01_internal04   \n",
      "4            1  barcode_external01_internal05   \n",
      "\n",
      "                                            squiggle  \\\n",
      "0  [[539, 409, 426, 422, 444, 430, 430, 451, 446,...   \n",
      "1  [[529, 528, 521, 556, 521, 527, 504, 519, 545,...   \n",
      "2  [[526, 529, 528, 556, 538, 540, 547, 550, 526,...   \n",
      "3  [[429, 448, 459, 466, 488, 465, 505, 516, 506,...   \n",
      "4  [[550, 559, 563, 572, 552, 544, 569, 570, 578,...   \n",
      "\n",
      "                                      label  \n",
      "0   2357 1278 2367 1378 2678 3578 1578 1238  \n",
      "1   2357 1278 2367 1378 2678 3578 1578 1238  \n",
      "2   2357 1278 2367 1378 2678 3578 1578 1238  \n",
      "3   2357 1278 2367 1378 2678 3578 1578 1238  \n",
      "4   2357 1278 2367 1378 2678 3578 1578 1238  \n"
     ]
    }
   ],
   "source": [
    "\n",
    "import numpy as np\n",
    "import matplotlib.pyplot as plt\n",
    "\n",
    "def get_label(ONT_Barcode, HW_Address):\n",
    "    label_row = decoded_consensus_df.loc[(decoded_consensus_df['ONT_Barcode'] == ONT_Barcode) & (decoded_consensus_df['HW_address'] == HW_Address)]\n",
    "    payload_columns = label_row.columns[2:]\n",
    "    label = [label_row[i].to_numpy()[0] for i in payload_columns]\n",
    "    label_str = \"\"\n",
    "    for i in label:\n",
    "        label_str += \" \" +i\n",
    "    \n",
    "    return label_str.replace('[', '').replace(']', '').replace(',', '')\n",
    "\n",
    "def get_read_id(ONT_Barcode, HW_Address, sample_length=10):\n",
    "    read_id_rows = read_id_barcoded_df.loc[(read_id_barcoded_df['ONT_Barcode'] == ONT_Barcode) & (read_id_barcoded_df['HW_Address'] == HW_Address)]\n",
    "    read_ids = read_id_rows['read_id'].to_numpy()\n",
    "    samples = [np.random.choice(len(read_ids)) for i in range(sample_length)]\n",
    "    return read_ids[samples]\n",
    "\n",
    "def get_squiggle(read_id):\n",
    "    return squiggle_database_df.loc[squiggle_database_df['read_id'] == read_id]['squiggle'].to_numpy()\n",
    "    \n",
    "print(get_label(ONT_Barcode, HW_Address))\n",
    "\n",
    "labels = []\n",
    "ont_unique = read_id_barcoded_df['ONT_Barcode'].unique()\n",
    "hw_address_unique = read_id_barcoded_df['HW_Address'].unique()\n",
    "\n",
    "onts = []\n",
    "hws = []\n",
    "squiggles = []\n",
    "\n",
    "for i in ont_unique:\n",
    "    for j in hw_address_unique:\n",
    "        label = get_label(i,j)\n",
    "        \n",
    "        read_id = get_read_id(i,j, sample_length=1)\n",
    "        squiggle = get_squiggle(read_id[0])\n",
    "        squiggles.append(squiggle)\n",
    "        onts.append(i)\n",
    "        hws.append(j)\n",
    "    break\n",
    "\n",
    "dataset_df = pd.DataFrame()\n",
    "dataset_df['ONT_Barcode'] = onts\n",
    "dataset_df['HW_Address'] = hws\n",
    "dataset_df['squiggle'] = squiggles\n",
    "dataset_df['label'] = label\n",
    "\n",
    "print(dataset_df.head())"
   ]
  },
  {
   "cell_type": "markdown",
   "id": "8e334e07-53a8-4b84-b584-9339d160057d",
   "metadata": {},
   "source": [
    "Looks like it can be quite noisy but it represents the thing that we want. Let's just arbitary select one, make a dataset - do some cleaning and train something"
   ]
  },
  {
   "cell_type": "markdown",
   "id": "3cb3524c-c2c9-4569-be72-bc10f7e7bca5",
   "metadata": {},
   "source": [
    "Port this code to vs and get my first dataset hell yeah"
   ]
  }
 ],
 "metadata": {
  "kernelspec": {
   "display_name": "Python 3 (ipykernel)",
   "language": "python",
   "name": "python3"
  },
  "language_info": {
   "codemirror_mode": {
    "name": "ipython",
    "version": 3
   },
   "file_extension": ".py",
   "mimetype": "text/x-python",
   "name": "python",
   "nbconvert_exporter": "python",
   "pygments_lexer": "ipython3",
   "version": "3.9.2"
  }
 },
 "nbformat": 4,
 "nbformat_minor": 5
}
