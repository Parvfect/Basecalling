{
 "cells": [
  {
   "cell_type": "code",
   "execution_count": 1,
   "id": "a5adf0db-fc87-4ddc-9e00-ca215667fb0c",
   "metadata": {},
   "outputs": [
    {
     "name": "stderr",
     "output_type": "stream",
     "text": [
      "100%|███████████████████████████████████████████████████████████████████████████| 20000/20000 [00:26<00:00, 742.54it/s]\n"
     ]
    },
    {
     "name": "stdout",
     "output_type": "stream",
     "text": [
      "Number of samples: 20000\n",
      "Running on cuda\n"
     ]
    },
    {
     "data": {
      "text/plain": [
       "'\\n# Add over epochs\\nfor epoch in range(epochs):\\n\\n    #################### Training Loop #################\\n    print(f\"Epoch {epoch}\")\\n    model.train()\\n    for i in tqdm(range(len(X_train))):\\n\\n        training_sequence, target_sequence = X_train[i].to(device), torch.tensor(y_train[i]).to(device)\\n\\n        input_lengths = torch.tensor(X_train[i].shape[0])\\n        target_lengths = torch.tensor(len(target_sequence))\\n\\n        # Zero out the gradients\\n        optimizer.zero_grad()\\n        \\n\\n        try:        \\n            \\n            # Give the model the input in chunks based on the model_output_split_size flag\\n            if model_output_split_size > 1:\\n                model_output_timestep = torch.zeros([input_lengths, output_size]).to(device)\\n                stepper_size = (input_lengths + model_output_split_size - 1) // model_output_split_size  # Adjust stepper_size to cover all elements\\n\\n                for j in range(0, input_lengths, stepper_size):\\n                    end_index = min(j + stepper_size, len(target_sequence))\\n                    \\n                    # Get the model output for the current chunk\\n                    model_output_chunk = model(training_sequence[j:end_index])\\n                    \\n                    # Ensure the sizes match before assignment\\n                    model_output_timestep[j:end_index] = model_output_chunk\\n                        \\n            else:\\n                model_output_timestep = model(training_sequence) # Getting model output\\n\\n            loss = ctc_loss(model_output_timestep, target_sequence, input_lengths, target_lengths)\\n            \\n            loss.backward()\\n            # Update the weights\\n            optimizer.step()\\n\\n        except Exception as e:\\n            print(f\"Error at {i}\")\\n            print(e)\\n            model_output_split_size += 1\\n            continue\\n\\n        \\n        if i % 100 == 0:\\n            print(f\"\\nEpoch {epoch} Batch {i}\")\\n            print(f\"Loss {loss.item()}\")\\n            greedy_result = greedy_decoder(model_output_timestep)\\n            greedy_transcript = \" \".join(greedy_result)\\n            actual_transcript = get_actual_transcript(target_sequence)\\n            motif_err = torchaudio.functional.edit_distance(actual_transcript, greedy_result) / len(actual_transcript)\\n\\n            motifs_identifed = get_motifs_identified(actual_transcript, greedy_transcript)\\n\\n            print(f\"Transcript: {greedy_transcript}\")\\n            print(f\"Actual Transcript: {actual_transcript}\")\\n            print(f\"Motif Error Rate: {motif_err}\")\\n            print(f\"Motifs Identified: {motifs_identifed}\")\\n\\n            writer.add_scalar(\"Loss/train\", loss, epoch)\\n            writer.add_scalar(\"Err/Train\", motif_err, epoch)\\n        \\n        # Saving model weights\\n        if i % model_save_iterations == 0:\\n            torch.save({\\n            \\'epoch\\': epoch,\\n            \\'batch\\':i,\\n            \\'model_state_dict\\': model.state_dict(),\\n            \\'optimizer_state_dict\\': optimizer.state_dict(),\\n            \\'loss\\': loss,\\n            }, model_save_path)\\n\\n    ################## Validation Loop ####################\\n    \\n    model.eval()\\n    val_loss = 0.0\\n    distances_arr = []\\n    motifs_identifed_arr = []\\n    with torch.no_grad():\\n        for i in tqdm(range(len(X_val))):\\n\\n            validation_sequence, target_sequence = torch.tensor(X_val[i]).to(device), torch.tensor(y_val[i]).to(device)\\n\\n            model_output_timestep = model(validation_sequence) # Getting model output\\n\\n            input_lengths = torch.tensor(X_val[i].shape[0])\\n            target_lengths = torch.tensor(len(target_sequence))\\n\\n            loss = ctc_loss(model_output_timestep, target_sequence, input_lengths, target_lengths)\\n\\n            greedy_result = greedy_decoder(model_output_timestep)\\n            greedy_transcript = \" \".join(greedy_result)\\n            actual_transcript = get_actual_transcript(target_sequence)\\n            \\n            motif_err = torchaudio.functional.edit_distance(actual_transcript, greedy_result) / len(actual_transcript)\\n            distances_arr.append(motif_err)\\n\\n            motifs_identifed = get_motifs_identified(actual_transcript, greedy_transcript)\\n            motifs_identifed_arr.append(motifs_identifed)\\n\\n            val_loss += loss.item()\\n\\n    val_loss /= len(X_val)\\n    val_accuracy = np.mean(distances_arr)\\n    motifs_identifed = np.mean(motifs_identifed_arr)\\n    print(f\"Epoch {epoch}, Validation Loss: {val_loss:.4f}, Validation Accuracy: {val_accuracy:.4f}, Motifs Identified: {motifs_identifed:.4f}\")\\n    writer.add_scalar(\"Loss/validation\", val_loss, epoch)\\n\\n'"
      ]
     },
     "execution_count": 1,
     "metadata": {},
     "output_type": "execute_result"
    }
   ],
   "source": [
    "\n",
    "import torch\n",
    "import torch.nn as nn\n",
    "import torch.optim as optim\n",
    "from crnn import CNN_BiGRU_Classifier\n",
    "import math\n",
    "from tqdm.notebook import tqdm\n",
    "import numpy as np\n",
    "from training_data import data_preproc, load_pre_data\n",
    "from sklearn.model_selection import train_test_split\n",
    "from greedy_decoder import GreedyCTCDecoder, beam_search_decoder\n",
    "from utils import get_actual_transcript, get_model_savepath, get_motifs_identified\n",
    "import torchaudio\n",
    "import datetime\n",
    "\n",
    "# Tensorboard\n",
    "from torch.utils.tensorboard import SummaryWriter\n",
    "writer = SummaryWriter()\n",
    "\n",
    "X,y = data_preproc(chop_reads=1)\n",
    "print(f\"Number of samples: {len(X)}\")\n",
    "\n",
    "device = torch.device('cuda' if torch.cuda.is_available() else 'cpu')\n",
    "torch.set_default_device(device)\n",
    "print(f\"Running on {device}\")\n",
    "\n",
    "labels_int = np.arange(14).tolist()\n",
    "labels = [f\"{i}\" for i in labels_int] # Tokens to be fed into greedy decoder\n",
    "greedy_decoder = GreedyCTCDecoder(labels=labels)\n",
    "\n",
    "model_save_path = get_model_savepath()\n",
    "model_save_iterations = 200\n",
    "\n",
    "# Model Parameters\n",
    "input_size = 1  # Number of input channels\n",
    "hidden_size = 128\n",
    "num_layers = 4\n",
    "output_size = 14  # Number of output classes\n",
    "dropout_rate = 0.2\n",
    "\n",
    "saved_model = True\n",
    "\n",
    "# Model Definition\n",
    "model = CNN_BiGRU_Classifier(input_size, hidden_size, num_layers, output_size, dropout_rate)\n",
    "\n",
    "if saved_model:\n",
    "    model_path = \"models/model.pth\"\n",
    "\n",
    "    checkpoint = torch.load(model_path)\n",
    "    model.load_state_dict(checkpoint['model_state_dict'])\n",
    "\n",
    "model = model.to(device)\n",
    "\n",
    "optimizer = optim.Adam(model.parameters(), lr=0.0001)\n",
    "ctc_loss = nn.CTCLoss(zero_infinity=True)\n",
    "\n",
    "presaved = False\n",
    "\n",
    "\"\"\"\n",
    "if presaved:\n",
    "    X, y = load_pre_data()\n",
    "else:\n",
    "    X,y = data_preproc()\n",
    "\"\"\"\n",
    "    \n",
    "# Creating Train, Test, Validation sets\n",
    "X_train, X_test, y_train, y_test = train_test_split(X, y, test_size=0.2, random_state=42)\n",
    "X_train, X_val, y_train, y_val = train_test_split(X_train, y_train, test_size=0.25, random_state=1) \n",
    "\n",
    "torch.autograd.set_detect_anomaly(True)\n",
    "\n",
    "n_classes = 14\n",
    "step_sequence = 100\n",
    "window_overlap = 50\n",
    "length_per_sample = 150\n",
    "model_output_split_size = 1\n",
    "\n",
    "epochs = 2\n",
    "\n",
    "\"\"\"\n",
    "# Add over epochs\n",
    "for epoch in range(epochs):\n",
    "\n",
    "    #################### Training Loop #################\n",
    "    print(f\"Epoch {epoch}\")\n",
    "    model.train()\n",
    "    for i in tqdm(range(len(X_train))):\n",
    "\n",
    "        training_sequence, target_sequence = X_train[i].to(device), torch.tensor(y_train[i]).to(device)\n",
    "\n",
    "        input_lengths = torch.tensor(X_train[i].shape[0])\n",
    "        target_lengths = torch.tensor(len(target_sequence))\n",
    "\n",
    "        # Zero out the gradients\n",
    "        optimizer.zero_grad()\n",
    "        \n",
    "\n",
    "        try:        \n",
    "            \n",
    "            # Give the model the input in chunks based on the model_output_split_size flag\n",
    "            if model_output_split_size > 1:\n",
    "                model_output_timestep = torch.zeros([input_lengths, output_size]).to(device)\n",
    "                stepper_size = (input_lengths + model_output_split_size - 1) // model_output_split_size  # Adjust stepper_size to cover all elements\n",
    "\n",
    "                for j in range(0, input_lengths, stepper_size):\n",
    "                    end_index = min(j + stepper_size, len(target_sequence))\n",
    "                    \n",
    "                    # Get the model output for the current chunk\n",
    "                    model_output_chunk = model(training_sequence[j:end_index])\n",
    "                    \n",
    "                    # Ensure the sizes match before assignment\n",
    "                    model_output_timestep[j:end_index] = model_output_chunk\n",
    "                        \n",
    "            else:\n",
    "                model_output_timestep = model(training_sequence) # Getting model output\n",
    "\n",
    "            loss = ctc_loss(model_output_timestep, target_sequence, input_lengths, target_lengths)\n",
    "            \n",
    "            loss.backward()\n",
    "            # Update the weights\n",
    "            optimizer.step()\n",
    "\n",
    "        except Exception as e:\n",
    "            print(f\"Error at {i}\")\n",
    "            print(e)\n",
    "            model_output_split_size += 1\n",
    "            continue\n",
    "\n",
    "        \n",
    "        if i % 100 == 0:\n",
    "            print(f\"\\nEpoch {epoch} Batch {i}\")\n",
    "            print(f\"Loss {loss.item()}\")\n",
    "            greedy_result = greedy_decoder(model_output_timestep)\n",
    "            greedy_transcript = \" \".join(greedy_result)\n",
    "            actual_transcript = get_actual_transcript(target_sequence)\n",
    "            motif_err = torchaudio.functional.edit_distance(actual_transcript, greedy_result) / len(actual_transcript)\n",
    "\n",
    "            motifs_identifed = get_motifs_identified(actual_transcript, greedy_transcript)\n",
    "\n",
    "            print(f\"Transcript: {greedy_transcript}\")\n",
    "            print(f\"Actual Transcript: {actual_transcript}\")\n",
    "            print(f\"Motif Error Rate: {motif_err}\")\n",
    "            print(f\"Motifs Identified: {motifs_identifed}\")\n",
    "\n",
    "            writer.add_scalar(\"Loss/train\", loss, epoch)\n",
    "            writer.add_scalar(\"Err/Train\", motif_err, epoch)\n",
    "        \n",
    "        # Saving model weights\n",
    "        if i % model_save_iterations == 0:\n",
    "            torch.save({\n",
    "            'epoch': epoch,\n",
    "            'batch':i,\n",
    "            'model_state_dict': model.state_dict(),\n",
    "            'optimizer_state_dict': optimizer.state_dict(),\n",
    "            'loss': loss,\n",
    "            }, model_save_path)\n",
    "\n",
    "    ################## Validation Loop ####################\n",
    "    \n",
    "    model.eval()\n",
    "    val_loss = 0.0\n",
    "    distances_arr = []\n",
    "    motifs_identifed_arr = []\n",
    "    with torch.no_grad():\n",
    "        for i in tqdm(range(len(X_val))):\n",
    "\n",
    "            validation_sequence, target_sequence = torch.tensor(X_val[i]).to(device), torch.tensor(y_val[i]).to(device)\n",
    "\n",
    "            model_output_timestep = model(validation_sequence) # Getting model output\n",
    "\n",
    "            input_lengths = torch.tensor(X_val[i].shape[0])\n",
    "            target_lengths = torch.tensor(len(target_sequence))\n",
    "\n",
    "            loss = ctc_loss(model_output_timestep, target_sequence, input_lengths, target_lengths)\n",
    "\n",
    "            greedy_result = greedy_decoder(model_output_timestep)\n",
    "            greedy_transcript = \" \".join(greedy_result)\n",
    "            actual_transcript = get_actual_transcript(target_sequence)\n",
    "            \n",
    "            motif_err = torchaudio.functional.edit_distance(actual_transcript, greedy_result) / len(actual_transcript)\n",
    "            distances_arr.append(motif_err)\n",
    "\n",
    "            motifs_identifed = get_motifs_identified(actual_transcript, greedy_transcript)\n",
    "            motifs_identifed_arr.append(motifs_identifed)\n",
    "\n",
    "            val_loss += loss.item()\n",
    "\n",
    "    val_loss /= len(X_val)\n",
    "    val_accuracy = np.mean(distances_arr)\n",
    "    motifs_identifed = np.mean(motifs_identifed_arr)\n",
    "    print(f\"Epoch {epoch}, Validation Loss: {val_loss:.4f}, Validation Accuracy: {val_accuracy:.4f}, Motifs Identified: {motifs_identifed:.4f}\")\n",
    "    writer.add_scalar(\"Loss/validation\", val_loss, epoch)\n",
    "\n",
    "\"\"\"\n",
    "    "
   ]
  },
  {
   "cell_type": "code",
   "execution_count": 1,
   "id": "1c7b438b-27a5-4679-9806-89c01cc46cde",
   "metadata": {},
   "outputs": [
    {
     "ename": "NameError",
     "evalue": "name 'model' is not defined",
     "output_type": "error",
     "traceback": [
      "\u001b[1;31m---------------------------------------------------------------------------\u001b[0m",
      "\u001b[1;31mNameError\u001b[0m                                 Traceback (most recent call last)",
      "Cell \u001b[1;32mIn[1], line 2\u001b[0m\n\u001b[0;32m      1\u001b[0m \u001b[38;5;66;03m# Test Loop\u001b[39;00m\n\u001b[1;32m----> 2\u001b[0m \u001b[43mmodel\u001b[49m\u001b[38;5;241m.\u001b[39meval()\n\u001b[0;32m      3\u001b[0m test_loss \u001b[38;5;241m=\u001b[39m \u001b[38;5;241m0.0\u001b[39m\n\u001b[0;32m      4\u001b[0m distances_arr \u001b[38;5;241m=\u001b[39m []\n",
      "\u001b[1;31mNameError\u001b[0m: name 'model' is not defined"
     ]
    }
   ],
   "source": [
    "\n",
    "\n",
    "\n",
    "# Test Loop\n",
    "model.eval()\n",
    "test_loss = 0.0\n",
    "distances_arr = []\n",
    "motifs_identifed_arr = []\n",
    "greedy_transcripts = []\n",
    "actual_transcripts = []\n",
    "with torch.no_grad():\n",
    "    for i in tqdm(range(len(X_test))):\n",
    "\n",
    "        test_sequence, target_sequence = torch.tensor(X_test[i]).to(device), torch.tensor(y_test[i]).to(device)\n",
    "\n",
    "        model_output_timestep = model(test_sequence) # Getting model output\n",
    "\n",
    "        input_lengths = torch.tensor(X_test[i].shape[0])\n",
    "        target_lengths = torch.tensor(len(target_sequence))\n",
    "\n",
    "        loss = ctc_loss(model_output_timestep, target_sequence, input_lengths, target_lengths)\n",
    "        test_loss += loss.item()\n",
    "\n",
    "        greedy_result = greedy_decoder(model_output_timestep)\n",
    "        greedy_transcript = \" \".join(greedy_result)\n",
    "        actual_transcript = get_actual_transcript(target_sequence)\n",
    "        greedy_transcripts.append(greedy_transcript)\n",
    "        actual_transcripts.append(actual_transcript)\n",
    "\n",
    "\n",
    "        motif_err = torchaudio.functional.edit_distance(actual_transcript, greedy_transcript) / len(actual_transcript)\n",
    "        distances_arr.append(motif_err)\n",
    "\n",
    "        motifs_identifed = get_motifs_identified(actual_transcript, greedy_transcript)\n",
    "        motifs_identifed_arr.append(motifs_identifed)\n",
    "\n",
    "\n",
    "test_loss /= len(X_test)\n",
    "test_accuracy = np.mean(distances_arr)\n",
    "motifs_identifed = np.mean(motifs_identifed_arr)\n",
    "print(f\"Test Loss: {test_loss:.4f}, Test Edit Distance: {test_accuracy:.4f}, Motifs Identified: {motifs_identifed:.4f}\")\n"
   ]
  },
  {
   "cell_type": "code",
   "execution_count": 3,
   "id": "d4f226d9-a866-49bd-940c-fa0e6ee9088f",
   "metadata": {},
   "outputs": [],
   "source": [
    "import matplotlib.pyplot as plt"
   ]
  },
  {
   "cell_type": "markdown",
   "id": "67d766f1-1cfa-4c19-bbfd-34f6f45a31a7",
   "metadata": {},
   "source": [
    "## Percentage of motifs identified"
   ]
  },
  {
   "cell_type": "code",
   "execution_count": 4,
   "id": "cccab6ca-d09c-49a6-8f0b-1f4af0066f6a",
   "metadata": {},
   "outputs": [
    {
     "data": {
      "image/png": "[encoded data removed]",
      "text/plain": [
       "<Figure size 1000x600 with 1 Axes>"
      ]
     },
     "metadata": {},
     "output_type": "display_data"
    }
   ],
   "source": [
    "accuracies = motifs_identifed_arr\n",
    "# Calculate mean and median\n",
    "mean_accuracy = np.mean(accuracies)\n",
    "\n",
    "# Create the histogram\n",
    "plt.figure(figsize=(10, 6))\n",
    "n, bins, patches = plt.hist(accuracies, bins=30, edgecolor='black')\n",
    "\n",
    "# Add mean and median lines\n",
    "plt.axvline(mean_accuracy, color='red', linestyle='dashed', linewidth=2, label=f'Mean ({mean_accuracy:.2f})')\n",
    "\n",
    "# Customize the plot\n",
    "plt.title('Percentage of Motifs identified per read (Motif caller)')\n",
    "plt.xlabel('Percentage of Motifs identified')\n",
    "plt.ylabel('Number of Reads')\n",
    "plt.legend()\n",
    "\n",
    "# Show the plot\n",
    "plt.show()"
   ]
  },
  {
   "cell_type": "markdown",
   "id": "2ac523b3-8d72-4b0d-850a-c6990aa599a6",
   "metadata": {},
   "source": [
    "## Read Distance Distribution"
   ]
  },
  {
   "cell_type": "code",
   "execution_count": 5,
   "id": "db3d0410-331e-4558-8e57-7965253ef374",
   "metadata": {},
   "outputs": [
    {
     "data": {
      "image/png": "[encoded data removed]",
      "text/plain": [
       "<Figure size 1000x600 with 1 Axes>"
      ]
     },
     "metadata": {},
     "output_type": "display_data"
    }
   ],
   "source": [
    "\n",
    "accuracies = distances_arr\n",
    "# Calculate mean and median\n",
    "mean_accuracy = np.mean(accuracies)\n",
    "\n",
    "# Create the histogram\n",
    "plt.figure(figsize=(10, 6))\n",
    "n, bins, patches = plt.hist(accuracies, bins=30, edgecolor='black')\n",
    "\n",
    "# Add mean and median lines\n",
    "plt.axvline(mean_accuracy, color='red', linestyle='dashed', linewidth=2, label=f'Mean ({mean_accuracy:.2f})')\n",
    "\n",
    "# Customize the plot\n",
    "plt.title('Read distance Distribution')\n",
    "plt.xlabel('Read Distance')\n",
    "plt.ylabel('Number of Samples')\n",
    "plt.legend()\n",
    "\n",
    "# Show the plot\n",
    "plt.show()"
   ]
  },
  {
   "cell_type": "markdown",
   "id": "f863ea20-1008-465d-8d49-b9232f353119",
   "metadata": {},
   "source": [
    "## Error by Motif Choice"
   ]
  },
  {
   "cell_type": "code",
   "execution_count": 6,
   "id": "18091e25-3391-4ac2-bca4-2dd8321496cb",
   "metadata": {},
   "outputs": [],
   "source": [
    "def get_motif_counts(read_motifs):\n",
    "    motif_counts = np.zeros(13, dtype=int)\n",
    "    for motif in read_motifs:\n",
    "        motif_counts[motif-1] += 1\n",
    "    return motif_counts\n",
    "\n",
    "motifs_missed = np.zeros(13, dtype=int)\n",
    "total_motifs = np.zeros(13, dtype=int)\n",
    "\n",
    "for i, j in zip(greedy_transcripts, actual_transcripts):\n",
    "\n",
    "    i = eval('['+i.replace(' ',',') +']')\n",
    "\n",
    "    j = j.strip()\n",
    "    j = eval('['+j.replace(' ',',') +']')\n",
    "\n",
    "    motif_counts_per_read = get_motif_counts(i)\n",
    "    dataset_motif_counts = get_motif_counts(j)\n",
    "\n",
    "    motifs_missed = [\n",
    "            i + (k - j) if k>j else i for i, j, k in zip(\n",
    "                motifs_missed, motif_counts_per_read, \n",
    "                dataset_motif_counts\n",
    "            )\n",
    "        ]\n",
    "    total_motifs = [i + j for i, j in zip(total_motifs, dataset_motif_counts)]\n"
   ]
  },
  {
   "cell_type": "code",
   "execution_count": 20,
   "id": "66771aca-ece2-4124-8b91-41192d56f796",
   "metadata": {},
   "outputs": [],
   "source": [
    "percentage_motifs_missed = [i/j for i,j in zip(motifs_missed, total_motifs)]"
   ]
  },
  {
   "cell_type": "code",
   "execution_count": 21,
   "id": "dfa406df-d099-40f4-8e55-24486ef08f3b",
   "metadata": {},
   "outputs": [
    {
     "data": {
      "text/plain": [
       "[0.10629744035515266,\n",
       " 0.2490049751243781,\n",
       " 0.17147117296222664,\n",
       " 0.24420788979336255,\n",
       " 0.23159700561447286,\n",
       " 0.3884959924563885,\n",
       " 0.1804418353159277,\n",
       " 0.36564756491012446,\n",
       " 0.30166196299780496,\n",
       " 0.30865172087148723,\n",
       " 0.23724095267553355,\n",
       " 0.3018955873213176,\n",
       " 0.33064883756268043]"
      ]
     },
     "execution_count": 21,
     "metadata": {},
     "output_type": "execute_result"
    }
   ],
   "source": [
    "percentage_motifs_missed"
   ]
  },
  {
   "cell_type": "code",
   "execution_count": 22,
   "id": "b48fe7c7-1ddd-4766-8063-4ae3e45ad441",
   "metadata": {},
   "outputs": [
    {
     "data": {
      "image/png": "[encoded data removed]",
      "text/plain": [
       "<Figure size 1000x600 with 1 Axes>"
      ]
     },
     "metadata": {},
     "output_type": "display_data"
    }
   ],
   "source": [
    "motif_labels = [\"Spacer\", \"FPrimer\", \"RPrimer\"] + [f\"Motif {i+1}\" for i in range(10)]\n",
    "missed_counts = motifs_missed\n",
    "motifs = motif_labels\n",
    "\n",
    "# Create the bar chart\n",
    "plt.figure(figsize=(10, 6))\n",
    "bars = plt.bar(motifs, percentage_motifs_missed)\n",
    "\n",
    "# Customize the chart\n",
    "plt.title('Percentage of motifs missed for Motifs in library')\n",
    "plt.xlabel('Motifs')\n",
    "plt.ylabel('Percentage of motifs missed')\n",
    "\n",
    "# Add value labels on top of each bar\n",
    "for bar in bars:\n",
    "    height = bar.get_height()\n",
    "    plt.text(bar.get_x() + bar.get_width()/2., height,\n",
    "             f'{height:.2f}',\n",
    "             ha='center', va='bottom')\n",
    "\n",
    "# Add grid lines for better readability\n",
    "plt.grid(axis='y', linestyle='--', alpha=0.7)\n",
    "\n",
    "# Rotate x-axis labels if they overlap\n",
    "plt.xticks(rotation=45, ha='right')\n",
    "\n",
    "# Adjust layout and display the plot\n",
    "plt.tight_layout()\n",
    "plt.show()\n"
   ]
  },
  {
   "cell_type": "markdown",
   "id": "e0df51ce-f365-4d3d-a06b-28a26f5785b7",
   "metadata": {},
   "source": [
    "## Alignment Metric"
   ]
  },
  {
   "cell_type": "code",
   "execution_count": 74,
   "id": "01537712-a5b1-4130-9da4-a72c9d7399f8",
   "metadata": {},
   "outputs": [
    {
     "name": "stdout",
     "output_type": "stream",
     "text": [
      "[4, 9, 4, 11, 11, 9, 12, 9, 5, 13]\n",
      "[6, 9, 8, 5, 11, 5, 13, 6, 13, 7, 5]\n",
      "\n",
      "[4, 11, 9, 13, 6, 4, 5, 10, 9, 11, 5, 11, 12, 8, 13, 11, 5, 13, 13]\n",
      "[4, 11, 9, 13, 6, 4, 5, 10, 9, 11, 5, 11, 12, 8, 13, 11, 5, 13, 13, 8]\n",
      "\n",
      "[11, 8, 5, 12, 7, 5, 13, 11, 4, 5, 7, 9, 9, 13, 13, 9]\n",
      "[11, 8, 5, 12, 11, 13, 7, 5, 13, 11, 4, 5, 7, 9, 9, 13, 13, 9]\n",
      "\n",
      "[7, 5, 7, 4, 13, 12]\n",
      "[5, 7, 4, 13, 12]\n",
      "\n",
      "[13, 9, 10, 13, 10, 7, 12, 7, 7, 4]\n",
      "[6, 13, 5, 5, 11, 13, 13, 8, 11, 8, 6, 10, 11, 13, 4]\n",
      "\n",
      "[5, 7, 7, 9, 13, 5, 7, 13, 4, 7]\n",
      "[5, 7, 4, 13, 6, 12, 13, 5, 7, 10, 13, 7]\n",
      "\n"
     ]
    }
   ],
   "source": [
    "# So for each read - get the information motifs from the target  \n",
    "# Similary for the prediction\n",
    "# See what difference is there -> direct correct prediction or next matches or whatever\n",
    "\n",
    "counter = 0\n",
    "for i, j in zip(greedy_transcripts, actual_transcripts):\n",
    "\n",
    "    i = eval('['+i.replace(' ',',') +']')\n",
    "\n",
    "    j = j.strip()\n",
    "    j = eval('['+j.replace(' ',',') +']')\n",
    "\n",
    "    print([t for t in i if not (t == 1 or t==2 or t==3)])\n",
    "    print([t for t in j if not (t == 1 or t==2 or t==3)])\n",
    "    print()\n",
    "\n",
    "    if counter == 5:\n",
    "        break\n",
    "    counter +=1\n"
   ]
  },
  {
   "cell_type": "code",
   "execution_count": 75,
   "id": "f3e4b412-c7fd-44de-849e-c84b7b65db8d",
   "metadata": {},
   "outputs": [
    {
     "name": "stdout",
     "output_type": "stream",
     "text": [
      "Pair 1:\n",
      "  Insertion error rate: 0.1818\n",
      "  Deletion error rate: 0.0909\n",
      "  Substitution error rate: 0.5455\n",
      "  Total error rate: 0.8182\n",
      "\n",
      "Pair 2:\n",
      "  Insertion error rate: 0.0500\n",
      "  Deletion error rate: 0.0000\n",
      "  Substitution error rate: 0.0000\n",
      "  Total error rate: 0.0500\n",
      "\n",
      "Pair 3:\n",
      "  Insertion error rate: 0.1111\n",
      "  Deletion error rate: 0.0000\n",
      "  Substitution error rate: 0.0000\n",
      "  Total error rate: 0.1111\n",
      "\n",
      "Pair 4:\n",
      "  Insertion error rate: 0.0000\n",
      "  Deletion error rate: 0.1667\n",
      "  Substitution error rate: 0.0000\n",
      "  Total error rate: 0.1667\n",
      "\n",
      "Pair 5:\n",
      "  Insertion error rate: 0.3333\n",
      "  Deletion error rate: 0.0000\n",
      "  Substitution error rate: 0.4667\n",
      "  Total error rate: 0.8000\n",
      "\n",
      "Pair 6:\n",
      "  Insertion error rate: 0.2500\n",
      "  Deletion error rate: 0.0833\n",
      "  Substitution error rate: 0.1667\n",
      "  Total error rate: 0.5000\n",
      "\n"
     ]
    }
   ],
   "source": [
    "def alignment_errors(seq1, seq2):\n",
    "    m, n = len(seq1), len(seq2)\n",
    "    dp = [[[0, ''] for _ in range(n + 1)] for _ in range(m + 1)]\n",
    "    \n",
    "    for i in range(m + 1):\n",
    "        dp[i][0] = [i, 'D' * i]\n",
    "    for j in range(n + 1):\n",
    "        dp[0][j] = [j, 'I' * j]\n",
    "    \n",
    "    for i in range(1, m + 1):\n",
    "        for j in range(1, n + 1):\n",
    "            if seq1[i-1] == seq2[j-1]:\n",
    "                dp[i][j] = dp[i-1][j-1]\n",
    "            else:\n",
    "                deletion = dp[i-1][j][0] + 1\n",
    "                insertion = dp[i][j-1][0] + 1\n",
    "                substitution = dp[i-1][j-1][0] + 1\n",
    "                \n",
    "                min_op = min(deletion, insertion, substitution)\n",
    "                dp[i][j][0] = min_op\n",
    "                \n",
    "                if min_op == deletion:\n",
    "                    dp[i][j][1] = dp[i-1][j][1] + 'D'\n",
    "                elif min_op == insertion:\n",
    "                    dp[i][j][1] = dp[i][j-1][1] + 'I'\n",
    "                else:\n",
    "                    dp[i][j][1] = dp[i-1][j-1][1] + 'S'\n",
    "    \n",
    "    operations = dp[m][n][1]\n",
    "    max_length = max(m, n)\n",
    "    \n",
    "    insertions = operations.count('I') / max_length\n",
    "    deletions = operations.count('D') / max_length\n",
    "    substitutions = operations.count('S') / max_length\n",
    "    \n",
    "    return insertions, deletions, substitutions\n",
    "\n",
    "# Example sequences\n",
    "sequence_pairs = [\n",
    "    ([4, 9, 4, 11, 11, 9, 12, 9, 5, 13], [6, 9, 8, 5, 11, 5, 13, 6, 13, 7, 5]),\n",
    "    ([4, 11, 9, 13, 6, 4, 5, 10, 9, 11, 5, 11, 12, 8, 13, 11, 5, 13, 13], \n",
    "     [4, 11, 9, 13, 6, 4, 5, 10, 9, 11, 5, 11, 12, 8, 13, 11, 5, 13, 13, 8]),\n",
    "    ([11, 8, 5, 12, 7, 5, 13, 11, 4, 5, 7, 9, 9, 13, 13, 9], \n",
    "     [11, 8, 5, 12, 11, 13, 7, 5, 13, 11, 4, 5, 7, 9, 9, 13, 13, 9]),\n",
    "    ([7, 5, 7, 4, 13, 12], [5, 7, 4, 13, 12]),\n",
    "    ([13, 9, 10, 13, 10, 7, 12, 7, 7, 4], \n",
    "     [6, 13, 5, 5, 11, 13, 13, 8, 11, 8, 6, 10, 11, 13, 4]),\n",
    "    ([5, 7, 7, 9, 13, 5, 7, 13, 4, 7], [5, 7, 4, 13, 6, 12, 13, 5, 7, 10, 13, 7])\n",
    "]\n",
    "\n",
    "# Calculate and print alignment errors\n",
    "for i, (seq1, seq2) in enumerate(sequence_pairs, 1):\n",
    "    ins, dele, sub = alignment_errors(seq1, seq2)\n",
    "    print(f\"Pair {i}:\")\n",
    "    print(f\"  Insertion error rate: {ins:.4f}\")\n",
    "    print(f\"  Deletion error rate: {dele:.4f}\")\n",
    "    print(f\"  Substitution error rate: {sub:.4f}\")\n",
    "    print(f\"  Total error rate: {ins + dele + sub:.4f}\")\n",
    "    print()"
   ]
  },
  {
   "cell_type": "code",
   "execution_count": 77,
   "id": "97666e3b-e4b6-4b2f-a6f6-84d310fd70dd",
   "metadata": {},
   "outputs": [],
   "source": [
    "def calculate_error_rates(ground_truth, prediction):\n",
    "    insertions = 0\n",
    "    deletions = 0\n",
    "    substitutions = 0\n",
    "    \n",
    "    i, j = 0, 0\n",
    "    while i < len(ground_truth) and j < len(prediction):\n",
    "        if ground_truth[i] == prediction[j]:\n",
    "            i += 1\n",
    "            j += 1\n",
    "        elif j + 1 < len(prediction) and ground_truth[i] == prediction[j + 1]:\n",
    "            # Insertion\n",
    "            insertions += 1\n",
    "            j += 1\n",
    "        elif i + 1 < len(ground_truth) and ground_truth[i + 1] == prediction[j]:\n",
    "            # Deletion\n",
    "            deletions += 1\n",
    "            i += 1\n",
    "        else:\n",
    "            # Substitution\n",
    "            substitutions += 1\n",
    "            i += 1\n",
    "            j += 1\n",
    "    \n",
    "    # Count remaining insertions or deletions\n",
    "    insertions += len(prediction) - j\n",
    "    deletions += len(ground_truth) - i\n",
    "    \n",
    "    total_length = len(ground_truth)\n",
    "    \n",
    "    return {\n",
    "        \"insertion_rate\": insertions / total_length,\n",
    "        \"deletion_rate\": deletions / total_length,\n",
    "        \"substitution_rate\": substitutions / total_length,\n",
    "        \"total_error_rate\": (insertions + deletions + substitutions) / total_length\n",
    "    }\n"
   ]
  },
  {
   "cell_type": "code",
   "execution_count": 81,
   "id": "b4d18101-01a5-4b62-893d-9803a012212a",
   "metadata": {},
   "outputs": [],
   "source": [
    "counter = 0\n",
    "insertion_rates = []\n",
    "subsitution_rates = []\n",
    "deletion_rates = []\n",
    "total_alignment_error_rates = []\n",
    "for i, j in zip(greedy_transcripts, actual_transcripts):\n",
    "\n",
    "    i = eval('['+i.replace(' ',',') +']')\n",
    "\n",
    "    j = j.strip()\n",
    "    j = eval('['+j.replace(' ',',') +']')\n",
    "\n",
    "    prediction_motifs = [t for t in i if not (t == 1 or t==2 or t==3)]\n",
    "    target_motifs = [t for t in j if not (t == 1 or t==2 or t==3)]\n",
    "    \n",
    "    error_rates = calculate_error_rates(target_motifs, prediction_motifs)\n",
    "\n",
    "    insertion_rates.append(error_rates['insertion_rate'])\n",
    "    subsitution_rates.append(error_rates['substitution_rate'])\n",
    "    deletion_rates.append(error_rates['deletion_rate'])\n",
    "    total_alignment_error_rates.append(error_rates['total_error_rate'])\n",
    " "
   ]
  },
  {
   "cell_type": "code",
   "execution_count": 83,
   "id": "08078d95-a2f5-4698-920d-8589767186d3",
   "metadata": {},
   "outputs": [
    {
     "data": {
      "text/plain": [
       "0.04243048583541574"
      ]
     },
     "execution_count": 83,
     "metadata": {},
     "output_type": "execute_result"
    }
   ],
   "source": [
    "np.mean(insertion_rates)"
   ]
  },
  {
   "cell_type": "code",
   "execution_count": 84,
   "id": "5be1a448-6d9b-4518-b565-74dcea68eb17",
   "metadata": {},
   "outputs": [
    {
     "data": {
      "text/plain": [
       "0.17529048888465143"
      ]
     },
     "execution_count": 84,
     "metadata": {},
     "output_type": "execute_result"
    }
   ],
   "source": [
    "np.mean(deletion_rates)"
   ]
  },
  {
   "cell_type": "code",
   "execution_count": 85,
   "id": "9ae78a4a-cf90-41dd-b6bf-787ec1fa8b26",
   "metadata": {},
   "outputs": [
    {
     "data": {
      "text/plain": [
       "0.2660318444270431"
      ]
     },
     "execution_count": 85,
     "metadata": {},
     "output_type": "execute_result"
    }
   ],
   "source": [
    "np.mean(subsitution_rates)"
   ]
  },
  {
   "cell_type": "code",
   "execution_count": 91,
   "id": "279c4115-d907-48d5-a6f9-1945e7192166",
   "metadata": {},
   "outputs": [
    {
     "data": {
      "text/plain": [
       "<BarContainer object of 3 artists>"
      ]
     },
     "execution_count": 91,
     "metadata": {},
     "output_type": "execute_result"
    },
    {
     "data": {
      "image/png": "[encoded data removed]",
      "text/plain": [
       "<Figure size 640x480 with 1 Axes>"
      ]
     },
     "metadata": {},
     "output_type": "display_data"
    }
   ],
   "source": [
    "columns = ['Insertion Errors', 'Deletion Errors', 'Subsitution Errors']\n",
    "rates = [np.mean(insertion_rates), np.mean(deletion_rates), np.mean(subsitution_rates)]\n",
    "\n",
    "plt.bar(columns, rates)"
   ]
  },
  {
   "cell_type": "markdown",
   "id": "d3556c78-37c0-4998-b886-d34d208d9c5b",
   "metadata": {},
   "source": [
    "## Training curve"
   ]
  },
  {
   "cell_type": "code",
   "execution_count": 67,
   "id": "22c0ea90-c385-4dab-969f-b2a34cd992ed",
   "metadata": {},
   "outputs": [],
   "source": [
    "log_path = r\"C:\\Users\\Parv\\OneDrive\\Documents\\models\\log.txt\"\n",
    "log_text = \"\""
   ]
  },
  {
   "cell_type": "code",
   "execution_count": 23,
   "id": "1744559f-2b7b-4217-9db8-ea6470b9aaeb",
   "metadata": {},
   "outputs": [],
   "source": [
    "with open(log_path, \"r\") as f:\n",
    "    log_text = f.readlines()"
   ]
  },
  {
   "cell_type": "code",
   "execution_count": 43,
   "id": "bf992e0b-dc8a-4524-bb5a-c13e99c0ca27",
   "metadata": {},
   "outputs": [],
   "source": [
    "\n",
    "epochs = []\n",
    "batch = []\n",
    "loss = []\n",
    "motifs_identified = []\n",
    "edit_distance = []\n",
    "for i in log_text:\n",
    "    if i == '\\n':\n",
    "        continue\n",
    "    split_line = i.split()\n",
    "    if len(split_line) > 5:\n",
    "        epochs.append(split_line[1])\n",
    "        batch.append(split_line[3])\n",
    "        loss.append(split_line[5])\n",
    "        motifs_identified.append(split_line[-1])\n",
    "        edit_distance.append(split_line[-3])"
   ]
  },
  {
   "cell_type": "code",
   "execution_count": 53,
   "id": "cb0b9d81-2a7c-47f3-897c-9533911fb56c",
   "metadata": {},
   "outputs": [],
   "source": [
    "edit_distance = [float(i.replace('Motifs', '')) for i in edit_distance if not (i=='Edit' or i =='')]"
   ]
  },
  {
   "cell_type": "code",
   "execution_count": null,
   "id": "63b1933c-06fb-4dfc-84d5-0f7179b85a54",
   "metadata": {},
   "outputs": [],
   "source": []
  }
 ],
 "metadata": {
  "kernelspec": {
   "display_name": "pytorch_gpu",
   "language": "python",
   "name": "python3"
  },
  "language_info": {
   "codemirror_mode": {
    "name": "ipython",
    "version": 3
   },
   "file_extension": ".py",
   "mimetype": "text/x-python",
   "name": "python",
   "nbconvert_exporter": "python",
   "pygments_lexer": "ipython3",
   "version": "3.12.3"
  }
 },
 "nbformat": 4,
 "nbformat_minor": 5
}
